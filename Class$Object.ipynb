{
 "cells": [
  {
   "cell_type": "code",
   "execution_count": 44,
   "metadata": {},
   "outputs": [],
   "source": [
    "class Restaurant:\n",
    "    def __init__(self,restaurant_name,cuisine_type):\n",
    "        self.restaurant_name = restaurant_name\n",
    "        self.cuisine_type = cuisine_type\n",
    "        self.number_of_customer_served = 0\n",
    "        \n",
    "    def describe_restaurant(self):\n",
    "        \"\"\"A method that describe the\n",
    "        attributes of the restaurant\"\"\"\n",
    "        print(f\"The name of our restaurant is {self.restaurant_name} and our type of cuisine is {self.cuisine_type}\")\n",
    "        \n",
    "    def open_restaurant(self):\n",
    "        print(f\"{self.restaurant_name} is open\")\n",
    "        \n",
    "\n",
    "        \n",
    "class IceCreamStand(Restaurant):\n",
    "    \"\"\" An ice cream stand in a restaurant\"\"\"\n",
    "    def __init__(self,restaurant_name,cuisine_type):\n",
    "        super().__init__(restaurant_name,cuisine_type)\n",
    "        self.flavour = ['Banana','Strawberry','Vanilla']\n",
    "        \n",
    "    def display_flavour(self):\n",
    "        print(f\"Welcome to {self.restaurant_name} !\")\n",
    "       # print(f\"The ice cream flavours we have are {self.flavour}\")\n",
    "        #print('The flavours we have are',[x for x in self.flavour])\n",
    "        print('The lists of flavours we have are: ')\n",
    "        for x in self.flavour:\n",
    "            print(x)\n",
    "\n",
    "        "
   ]
  },
  {
   "cell_type": "code",
   "execution_count": 45,
   "metadata": {},
   "outputs": [
    {
     "name": "stdout",
     "output_type": "stream",
     "text": [
      "The name of our restaurant is De choice and our type of cuisine is Egusi soup\n",
      "None\n"
     ]
    }
   ],
   "source": [
    "stand1=IceCreamStand('De choice', 'Egusi soup')\n",
    "print(stand1.describe_restaurant()) #To check if our subclass inherit from the parent class"
   ]
  },
  {
   "cell_type": "code",
   "execution_count": 46,
   "metadata": {},
   "outputs": [
    {
     "name": "stdout",
     "output_type": "stream",
     "text": [
      "Welcome to De choice !\n",
      "The lists of flavours we have are: \n",
      "Banana\n",
      "Strawberry\n",
      "Vanilla\n",
      "None\n"
     ]
    }
   ],
   "source": [
    "print(stand1.display_flavour())"
   ]
  }
 ],
 "metadata": {
  "kernelspec": {
   "display_name": "Python 3",
   "language": "python",
   "name": "python3"
  },
  "language_info": {
   "codemirror_mode": {
    "name": "ipython",
    "version": 3
   },
   "file_extension": ".py",
   "mimetype": "text/x-python",
   "name": "python",
   "nbconvert_exporter": "python",
   "pygments_lexer": "ipython3",
   "version": "3.7.2"
  }
 },
 "nbformat": 4,
 "nbformat_minor": 4
}
