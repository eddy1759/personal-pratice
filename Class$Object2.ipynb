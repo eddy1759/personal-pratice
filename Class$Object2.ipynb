{
 "cells": [
  {
   "cell_type": "code",
   "execution_count": 1,
   "metadata": {},
   "outputs": [],
   "source": [
    "class User():\n",
    "    def __init__(self,firstname,lastname,age):\n",
    "        self.firstname=firstname\n",
    "        self.lastname=lastname\n",
    "        self.age=age\n",
    "        \n",
    "    def describe_user(self):\n",
    "        print(f\"your name is {self.firstname} {self.lastname} and youre {self.age} years old\")\n",
    "        \n",
    "    \n",
    "class Privileges:\n",
    "    def __init__(self,privilege=None):\n",
    "        self.privilege = ['can delete post','can ban user','can add user','can add post']\n",
    "        \n",
    "    def show_privileges(self):\n",
    "        print(\"The administrative privileges are: \")\n",
    "    \n",
    "        for x in self.privilege:\n",
    "            print(x)\n",
    "            \n",
    "class Admin(User):\n",
    "    def __init__(self,firstname,lastname,age):\n",
    "        super().__init__(firstname,lastname,age)\n",
    "        self.privileges = Privileges\n",
    "              "
   ]
  },
  {
   "cell_type": "code",
   "execution_count": 2,
   "metadata": {},
   "outputs": [],
   "source": [
    "admin1=Admin('edet','Asuquo', 23)"
   ]
  },
  {
   "cell_type": "code",
   "execution_count": 3,
   "metadata": {},
   "outputs": [
    {
     "name": "stdout",
     "output_type": "stream",
     "text": [
      "your name is edet Asuquo and youre 23 years old\n",
      "None\n"
     ]
    }
   ],
   "source": [
    "print(admin1.describe_user())"
   ]
  },
  {
   "cell_type": "code",
   "execution_count": 4,
   "metadata": {},
   "outputs": [
    {
     "name": "stdout",
     "output_type": "stream",
     "text": [
      "The administrative privileges are: \n",
      "can delete post\n",
      "can ban user\n",
      "can add user\n",
      "can add post\n"
     ]
    }
   ],
   "source": [
    "admin1.privileges().show_privileges()"
   ]
  },
  {
   "cell_type": "code",
   "execution_count": null,
   "metadata": {},
   "outputs": [],
   "source": []
  },
  {
   "cell_type": "code",
   "execution_count": null,
   "metadata": {},
   "outputs": [],
   "source": []
  }
 ],
 "metadata": {
  "kernelspec": {
   "display_name": "Python 3",
   "language": "python",
   "name": "python3"
  },
  "language_info": {
   "codemirror_mode": {
    "name": "ipython",
    "version": 3
   },
   "file_extension": ".py",
   "mimetype": "text/x-python",
   "name": "python",
   "nbconvert_exporter": "python",
   "pygments_lexer": "ipython3",
   "version": "3.7.2"
  }
 },
 "nbformat": 4,
 "nbformat_minor": 4
}
